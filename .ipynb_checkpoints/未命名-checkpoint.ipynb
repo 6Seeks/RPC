{
 "cells": [
  {
   "cell_type": "code",
   "execution_count": 1,
   "metadata": {},
   "outputs": [
    {
     "name": "stdout",
     "output_type": "stream",
     "text": [
      "Put 0 to queue...\n",
      "Put 1 to queue...\n"
     ]
    },
    {
     "ename": "AttributeError",
     "evalue": "'Pool' object has no attribute 'is_alive'",
     "output_type": "error",
     "traceback": [
      "\u001b[0;31m---------------------------------------------------------------------------\u001b[0m",
      "\u001b[0;31mAttributeError\u001b[0m                            Traceback (most recent call last)",
      "\u001b[0;32m<ipython-input-1-81f3867882aa>\u001b[0m in \u001b[0;36m<module>\u001b[0;34m\u001b[0m\n\u001b[1;32m     31\u001b[0m     \u001b[0mpp\u001b[0m\u001b[0;34m.\u001b[0m\u001b[0mstart\u001b[0m\u001b[0;34m(\u001b[0m\u001b[0;34m)\u001b[0m\u001b[0;34m\u001b[0m\u001b[0;34m\u001b[0m\u001b[0m\n\u001b[1;32m     32\u001b[0m     \u001b[0mpg\u001b[0m\u001b[0;34m.\u001b[0m\u001b[0mjoin\u001b[0m\u001b[0;34m(\u001b[0m\u001b[0;34m)\u001b[0m\u001b[0;34m\u001b[0m\u001b[0;34m\u001b[0m\u001b[0m\n\u001b[0;32m---> 33\u001b[0;31m     \u001b[0mprint\u001b[0m\u001b[0;34m(\u001b[0m\u001b[0mpg\u001b[0m\u001b[0;34m.\u001b[0m\u001b[0mis_alive\u001b[0m\u001b[0;34m(\u001b[0m\u001b[0;34m)\u001b[0m\u001b[0;34m)\u001b[0m\u001b[0;34m\u001b[0m\u001b[0;34m\u001b[0m\u001b[0m\n\u001b[0m",
      "\u001b[0;31mAttributeError\u001b[0m: 'Pool' object has no attribute 'is_alive'"
     ]
    },
    {
     "name": "stdout",
     "output_type": "stream",
     "text": [
      "Put 2 to queue...\n",
      "Put 3 to queue...\n",
      "Put 4 to queue...\n",
      "Put 5 to queue...\n",
      "Put 6 to queue...\n",
      "Put 7 to queue...\n",
      "Put 8 to queue...\n",
      "Put 9 to queue...\n",
      "Put 10 to queue...\n",
      "Put 11 to queue...\n",
      "Put 12 to queue...\n",
      "Put 13 to queue...\n",
      "Put 14 to queue...\n",
      "Put 15 to queue...\n",
      "Put 16 to queue...\n",
      "Put 17 to queue...\n",
      "Put 18 to queue...\n",
      "Put 19 to queue...\n",
      "Put 20 to queue...\n",
      "Put 21 to queue...\n",
      "Put 22 to queue...\n",
      "Put 23 to queue...\n",
      "Put 24 to queue...\n",
      "Put 25 to queue...\n",
      "Put 26 to queue...\n",
      "Put 27 to queue...\n",
      "Put 28 to queue...\n",
      "Put 29 to queue...\n",
      "Put 30 to queue...\n",
      "Put 31 to queue...\n",
      "Put 32 to queue...\n",
      "Put 33 to queue...\n",
      "Put 34 to queue...\n",
      "Put 35 to queue...\n",
      "Put 36 to queue...\n",
      "Put 37 to queue...\n",
      "Put 38 to queue...\n",
      "Put 39 to queue...\n",
      "Put 40 to queue...\n",
      "Put 41 to queue...\n",
      "Put 42 to queue...\n",
      "Put 43 to queue...\n",
      "Put 44 to queue...\n",
      "Put 45 to queue...\n",
      "Put 46 to queue...\n",
      "Put 47 to queue...\n",
      "Put 48 to queue...\n",
      "Put 49 to queue...\n",
      "Put 50 to queue...\n",
      "Put 51 to queue...\n",
      "Put 52 to queue...\n",
      "Put 53 to queue...\n",
      "Put 54 to queue...\n",
      "Put 55 to queue...\n",
      "Put 56 to queue...\n",
      "Put 57 to queue...\n",
      "Put 58 to queue...\n",
      "Put 59 to queue...\n",
      "Put 60 to queue...\n",
      "Put 61 to queue...\n",
      "Put 62 to queue...\n",
      "Put 63 to queue...\n",
      "Put 64 to queue...\n",
      "Put 65 to queue...\n",
      "Put 66 to queue...\n"
     ]
    }
   ],
   "source": [
    "from multiprocessing import Process, Queue,Pool\n",
    "import time\n",
    "\n",
    "\n",
    "def put_card(queue):\n",
    "    \"\"\"往队列中添加数据\"\"\"\n",
    "    for card in range(100):\n",
    "        print('Put {} to queue...'.format(card))\n",
    "        queue.put(card)\n",
    "        time.sleep(0.1)\n",
    "\n",
    "\n",
    "def get_card(queue):\n",
    "    \"\"\"从队列中取出数据\"\"\"\n",
    "    while True:\n",
    "        card = queue.get(True)\n",
    "        if card == 99:\n",
    "            break\n",
    "        print('Get {} from queue.'.format(card))\n",
    "        time.sleep(0.5)\n",
    "\n",
    "\n",
    "if __name__ == \"__main__\":\n",
    "    q = Queue()\n",
    "    pp = Process(target=put_card, args=(q, ))\n",
    "    pg = Pool(5)\n",
    "    for i in range(5):\n",
    "        pg.apply_async(get_card,(q, ))\n",
    "    \n",
    "    pg.close()\n",
    "    pp.start()\n",
    "    pg.join()"
   ]
  },
  {
   "cell_type": "code",
   "execution_count": null,
   "metadata": {},
   "outputs": [],
   "source": []
  }
 ],
 "metadata": {
  "kernelspec": {
   "display_name": "Python 3.7.4 64-bit ('base': conda)",
   "language": "python",
   "name": "python37464bitbaseconda6e21a27a424f4b95b8b16977e3d2a31e"
  },
  "language_info": {
   "codemirror_mode": {
    "name": "ipython",
    "version": 3
   },
   "file_extension": ".py",
   "mimetype": "text/x-python",
   "name": "python",
   "nbconvert_exporter": "python",
   "pygments_lexer": "ipython3",
   "version": "3.7.4"
  }
 },
 "nbformat": 4,
 "nbformat_minor": 2
}
