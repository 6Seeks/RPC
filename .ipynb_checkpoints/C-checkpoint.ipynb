{
 "cells": [
  {
   "cell_type": "code",
   "execution_count": 1,
   "metadata": {},
   "outputs": [],
   "source": [
    "from socket import *\n",
    "import time\n",
    "import json\n",
    "\n",
    "\n",
    "class RPCClient():\n",
    "    def __init__(self, ip, port):\n",
    "\n",
    "        self.tcp_client = socket(AF_INET, SOCK_STREAM)\n",
    "        self.tcp_client.connect((ip, port))\n",
    "\n",
    "    def call(self, functionName, parameters):\n",
    "        data = {\n",
    "            \"type\": \"request\",\n",
    "            \"async\":True,\n",
    "            \"functionName\": functionName,\n",
    "            \"parameters\": parameters\n",
    "        }\n",
    "        msg = json.dumps(data)\n",
    "        self.tcp_client.sendall(msg.encode(\"utf-8\"))\n",
    "        result = self.tcp_client.recv(1024).decode(\"utf-8\")\n",
    "        print(\"服务器命令执行的结果是:\", result)\n",
    "        return result"
   ]
  },
  {
   "cell_type": "code",
   "execution_count": 2,
   "metadata": {},
   "outputs": [
    {
     "name": "stdout",
     "output_type": "stream",
     "text": [
      "服务器命令执行的结果是: {\"type\": \"response\", \"uuid\": \"c2a4d840-6b55-11ea-9a57-acde48001122\", \"result\": \"3\"}\n"
     ]
    }
   ],
   "source": [
    "if __name__ == \"__main__\":\n",
    "    c = RPCClient(\"127.0.0.1\",8000)\n",
    "    while True:\n",
    "        c.call(\"add\",[1,2])\n",
    "        time.sleep(0.5)"
   ]
  },
  {
   "cell_type": "code",
   "execution_count": null,
   "metadata": {},
   "outputs": [],
   "source": []
  }
 ],
 "metadata": {
  "kernelspec": {
   "display_name": "Python 3.7.4 64-bit ('base': conda)",
   "language": "python",
   "name": "python37464bitbaseconda6e21a27a424f4b95b8b16977e3d2a31e"
  },
  "language_info": {
   "codemirror_mode": {
    "name": "ipython",
    "version": 3
   },
   "file_extension": ".py",
   "mimetype": "text/x-python",
   "name": "python",
   "nbconvert_exporter": "python",
   "pygments_lexer": "ipython3",
   "version": "3.7.4"
  }
 },
 "nbformat": 4,
 "nbformat_minor": 2
}
