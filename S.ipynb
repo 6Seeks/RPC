{
 "cells": [
  {
   "cell_type": "code",
   "execution_count": null,
   "metadata": {},
   "outputs": [
    {
     "name": "stdout",
     "output_type": "stream",
     "text": [
      "conn is : <socket.socket fd=59, family=AddressFamily.AF_INET, type=SocketKind.SOCK_STREAM, proto=0, laddr=('127.0.0.1', 8000), raddr=('127.0.0.1', 51707)>\n",
      "addr is : ('127.0.0.1', 51707)\n",
      "new ready\n",
      "收到客户端的消息是 {\"type\": \"request\", \"async\": true, \"functionName\": \"add\", \"parameters\": [1, 2]}\n",
      "process start\n",
      "new ready\n"
     ]
    }
   ],
   "source": [
    "import socketserver\n",
    "import json\n",
    "import uuid\n",
    "\n",
    "from multiprocessing import Pool\n",
    "import time\n",
    "\n",
    "\n",
    "class RPCServer(socketserver.BaseRequestHandler):\n",
    "    def real_solve(self, req):\n",
    "        if not hasattr(self, req[\"functionName\"]):\n",
    "            msg = json.dumps({\n",
    "                \"type\": \"response\",\n",
    "                \"result\": \"illegal function\"\n",
    "            })\n",
    "            self.request.sendall(msg.encode(\"utf-8\"))\n",
    "        else:\n",
    "            result = str(getattr(self, req[\"functionName\"])(req[\"parameters\"]))\n",
    "\n",
    "            msg = json.dumps({\"type\": \"response\", \"result\": result})\n",
    "            self.request.sendall(msg.encode(\"utf-8\"))\n",
    "\n",
    "        print(\"thread over\")\n",
    "\n",
    "    def handle(self):\n",
    "\n",
    "        print(\"conn is :\", self.request)  # conn\n",
    "        print(\"addr is :\", self.client_address)  # addr\n",
    "        pool = Pool(5)\n",
    "\n",
    "        while True:\n",
    "            try:\n",
    "                #收消息\n",
    "                print(\"new ready\")\n",
    "                data = self.request.recv(1024)\n",
    "                if not data: break\n",
    "                print(\"收到客户端的消息是\", data.decode(\"utf-8\"))\n",
    "                req = json.loads(data.decode(\"utf-8\"))\n",
    "                pool.apply_async(self.real_solve, [\n",
    "                    req,\n",
    "                ])\n",
    "                print(\"process start\")\n",
    "            except Exception as e:\n",
    "                print(e)\n",
    "                break\n",
    "\n",
    "\n",
    "class MyServer(RPCServer):\n",
    "    def add(self, parameters):\n",
    "        time.sleep(10)\n",
    "        result = 0\n",
    "        for i in range(len(parameters)):\n",
    "            result = result + parameters[i]\n",
    "        return result\n",
    "\n",
    "\n",
    "if __name__ == \"__main__\":\n",
    "    ip_port = (\"127.0.0.1\", 8000)\n",
    "    s = socketserver.ThreadingTCPServer(ip_port, MyServer)\n",
    "    s.serve_forever()"
   ]
  },
  {
   "cell_type": "code",
   "execution_count": null,
   "metadata": {},
   "outputs": [],
   "source": []
  },
  {
   "cell_type": "code",
   "execution_count": null,
   "metadata": {},
   "outputs": [],
   "source": []
  }
 ],
 "metadata": {
  "kernelspec": {
   "display_name": "Python 3.7.4 64-bit ('base': conda)",
   "language": "python",
   "name": "python37464bitbaseconda6e21a27a424f4b95b8b16977e3d2a31e"
  },
  "language_info": {
   "codemirror_mode": {
    "name": "ipython",
    "version": 3
   },
   "file_extension": ".py",
   "mimetype": "text/x-python",
   "name": "python",
   "nbconvert_exporter": "python",
   "pygments_lexer": "ipython3",
   "version": "3.7.4"
  }
 },
 "nbformat": 4,
 "nbformat_minor": 2
}
